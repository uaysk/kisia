{
  "nbformat": 4,
  "nbformat_minor": 0,
  "metadata": {
    "colab": {
      "provenance": []
    },
    "kernelspec": {
      "name": "python3",
      "display_name": "Python 3"
    },
    "language_info": {
      "name": "python"
    }
  },
  "cells": [
    {
      "cell_type": "code",
      "execution_count": 56,
      "metadata": {
        "id": "WRN2NnZ1SEM3"
      },
      "outputs": [],
      "source": [
        "import numpy as np\n",
        "import pandas as pd\n",
        "from sklearn.preprocessing import LabelEncoder\n",
        "from sklearn.metrics import accuracy_score, precision_score, recall_score, f1_score, confusion_matrix, classification_report\n",
        "from xgboost import XGBClassifier\n",
        "import matplotlib.pyplot as plt\n",
        "from sklearn.utils import shuffle\n",
        "import re, ipaddress\n",
        "from typing import Tuple, Optional\n",
        "from sklearn.model_selection import train_test_split\n"
      ]
    },
    {
      "cell_type": "code",
      "source": [
        "from google.colab import drive\n",
        "drive.mount('/content/gdrive')\n",
        "colab_path = \"/content/gdrive/MyDrive/KISIA_ZT/Data/\""
      ],
      "metadata": {
        "colab": {
          "base_uri": "https://localhost:8080/"
        },
        "id": "YdlvrntZg7kS",
        "outputId": "e57bc0ae-d3a8-4510-e1b2-3d6e0b33f53f"
      },
      "execution_count": 2,
      "outputs": [
        {
          "output_type": "stream",
          "name": "stdout",
          "text": [
            "Mounted at /content/gdrive\n"
          ]
        }
      ]
    },
    {
      "cell_type": "code",
      "source": [
        "df_normal = pd.read_csv(colab_path + 'train_normal.csv')\n",
        "df_anormalous = pd.read_csv(colab_path+ 'val_anomalous.csv')"
      ],
      "metadata": {
        "id": "VeuSGOTnzhfA"
      },
      "execution_count": 11,
      "outputs": []
    },
    {
      "cell_type": "code",
      "source": [
        "RULES = { #수정필요\n",
        "    \"features\": {\n",
        "        # Identity\n",
        "        \"mfa_result\": {\n",
        "            \"type\": \"categorical_map\",\n",
        "            \"map\": {\"success\": 100, \"used_but_fail\": 20, \"fail\": 20, \"none\": 0}\n",
        "        },\n",
        "        # Device\n",
        "        \"patch_age_days\": { \"type\": \"bin\", \"bins\": [0, 30, 90, 180, 10**9], \"scores\": [100, 70, 40, 0] },\n",
        "        \"disk_encrypt\":   { \"type\": \"boolean\", \"true_score\": 100, \"false_score\": 0 },\n",
        "        \"virtual_machine\":{ \"type\": \"boolean\", \"true_score\": 60,  \"false_score\": 100 },\n",
        "        \"os_tamper_flag\": { \"type\": \"boolean\", \"true_score\": 0,   \"false_score\": 100 },\n",
        "        # Network & Geo\n",
        "        \"network_type\": {\n",
        "            \"type\": \"categorical_map\",\n",
        "            \"map\": {\"company\": 100, \"home\": 60, \"public\": 30, \"hotel\": 30, \"cafe\": 30, \"mobile\": 60}\n",
        "        },\n",
        "        \"proxy_vpn_tor\":  { \"type\": \"categorical_map\", \"map\": {\"none\": 100, \"vpn\": 70, \"proxy\": 20, \"suspicious\": 20, \"tor\": 0} },\n",
        "        \"ip_rep\":         { \"type\": \"categorical_map\", \"map\": {\"safe\": 100, \"neutral\": 50, \"bad\": 0} },\n",
        "        \"geo_country\":    { \"type\": \"categorical_map\", \"map\": {\"KR\":100,\"US\":100,\"JP\":100,\"DE\":100,\"GB\":100,\"RU\":0,\"KP\":0,\"IR\":0} },\n",
        "        \"impossible_travel\": { \"type\": \"boolean\", \"true_score\": 0, \"false_score\": 100 },\n",
        "        # Environment\n",
        "        \"device_owner\":   { \"type\": \"categorical_map\", \"map\": {\"company\": 100, \"personal\": 60} },\n",
        "        \"tz_offset_minutes\": { \"type\": \"band_zero\", \"zero_is_good\": True, \"good\": 100, \"bad\": 80 },\n",
        "        \"locale_lang\":    { \"type\": \"passthrough_const\", \"value\": 100 },\n",
        "        # Behavioral / Session\n",
        "        \"login_hour_local\": { \"type\": \"workhour_band\", \"start\": 9, \"end\": 18, \"tolerance\": 2, \"in_score\": 100, \"out_score\": 50 },\n",
        "        \"failed_attempts_recent\": { \"type\": \"bin\", \"bins\": [0,1,4,11,10**9], \"scores\": [100,80,40,0] },\n",
        "        \"previous_success_login_ts\": { \"type\": \"passthrough_const\", \"value\": 100 },\n",
        "        \"user_agent_fingerprint\":    { \"type\": \"passthrough_const\", \"value\": 100 },\n",
        "    },\n",
        "    \"groups\": {\n",
        "        \"identity\":    [\"mfa_result\"],\n",
        "        \"device\":      [\"patch_age_days\",\"disk_encrypt\",\"virtual_machine\",\"os_tamper_flag\"],\n",
        "        \"network\":     [\"network_type\",\"proxy_vpn_tor\",\"ip_rep\",\"geo_country\",\"impossible_travel\"],\n",
        "        \"environment\": [\"device_owner\",\"tz_offset_minutes\",\"locale_lang\"],\n",
        "        \"behavioral\":  [\"login_hour_local\",\"failed_attempts_recent\"],\n",
        "        \"session\":     [\"previous_success_login_ts\",\"user_agent_fingerprint\"]\n",
        "    },\n",
        "    # 가중치(합=100)\n",
        "    \"weights\": {\"identity\":20,\"device\":30,\"network\":20,\"behavioral\":15,\"session\":10,\"environment\":5}\n",
        "}"
      ],
      "metadata": {
        "id": "TvPScna0JtJL"
      },
      "execution_count": 20,
      "outputs": []
    },
    {
      "cell_type": "code",
      "source": [
        "df_normal[\"label\"]=0\n",
        "df_anormalous[\"label\"]=1"
      ],
      "metadata": {
        "id": "AvnvH5xFMslf"
      },
      "execution_count": 26,
      "outputs": []
    },
    {
      "cell_type": "code",
      "source": [
        "df_mix = pd.concat([df_normal, df_anormalous])\n",
        "df_mix = df_mix.sample(frac=1, random_state=42).reset_index(drop=True)"
      ],
      "metadata": {
        "id": "fDG7ONDsRvFA"
      },
      "execution_count": 29,
      "outputs": []
    },
    {
      "cell_type": "code",
      "source": [
        "df_train, df_test = train_test_split(df_mix, test_size= 0.2, stratify=df_mix[\"label\"],random_state=42)"
      ],
      "metadata": {
        "id": "d-zAlyLaSzja"
      },
      "execution_count": 38,
      "outputs": []
    },
    {
      "cell_type": "code",
      "source": [
        "def preprocess_df(\n",
        "    df: pd.DataFrame,\n",
        "    *,\n",
        "    event_ts_col: Optional[str] = None,\n",
        "    snapshot_ts: Optional[pd.Timestamp] = None,\n",
        ") -> Tuple[pd.DataFrame, list, list]:\n",
        "    out = df.copy()\n",
        "\n",
        "    # 1) 드롭\n",
        "    for c in [\"os_name\", \"user_id\", \"device_id\", \"user_agent_fingerprint\", \"trust_score\", \"src_ip\", \"pdp_pep_decision\"]:\n",
        "        if c in out.columns:\n",
        "            out.drop(columns=c, inplace=True)\n",
        "\n",
        "    # 2) previous_success_login_ts → days_since_prev_success 로그인 이후 지난 시간으로 변경\n",
        "    if \"previous_success_login_ts\" in out.columns:\n",
        "        prev_ts = pd.to_datetime(out[\"previous_success_login_ts\"], utc=True, errors=\"coerce\")\n",
        "        if event_ts_col and event_ts_col in out.columns:\n",
        "            evt_ts = pd.to_datetime(out[event_ts_col], utc=True, errors=\"coerce\")\n",
        "            days = (evt_ts - prev_ts).dt.total_seconds() / 86400.0\n",
        "        else:\n",
        "            ref = (snapshot_ts.tz_convert(\"UTC\") if isinstance(snapshot_ts, pd.Timestamp)\n",
        "                   else (prev_ts.max() if prev_ts.notna().any()\n",
        "                         else pd.Timestamp.utcnow().tz_localize(\"UTC\")))\n",
        "            days = (ref - prev_ts).dt.total_seconds() / 86400.0\n",
        "        out[\"days_since_prev_success\"] = days.astype(\"float32\")\n",
        "        out.drop(columns=[\"previous_success_login_ts\"], inplace=True)\n",
        "\n",
        "    # 3) os_version\n",
        "    if \"os_version\" in out.columns:\n",
        "        maj = out[\"os_version\"].astype(str).str.extract(r\"^(\\d+)\").iloc[:, 0]\n",
        "        out[\"os_version_major\"] = pd.to_numeric(maj, errors=\"coerce\").fillna(-1).astype(\"int16\")\n",
        "        out.drop(columns=[\"os_version\"], inplace=True)\n",
        "\n",
        "    # 4) _info / _context/user_role/locale_lang/access_action/access_resource_name/device_owner OHE\n",
        "    ohe_cols = [c for c in out.columns if c.endswith(\"_info\") or c.endswith(\"_context\")]\n",
        "    if ohe_cols:\n",
        "        out = pd.get_dummies(out, columns=ohe_cols)\n",
        "        new_dummy_cols = [c for c in out.columns if any(c.startswith(base + \"_\") for base in ohe_cols)]\n",
        "        if new_dummy_cols:\n",
        "            out[new_dummy_cols] = out[new_dummy_cols].astype(\"int8\")\n",
        "    if \"user_role\" in out.columns:\n",
        "      out = pd.get_dummies(out, columns=[\"user_role\"])\n",
        "      new_cols = [c for c in out.columns if c.startswith(\"user_role_\")]\n",
        "      out[new_cols] = out[new_cols].astype(\"int8\")\n",
        "    if \"locale_lang\" in out.columns:\n",
        "      out = pd.get_dummies(out, columns=[\"locale_lang\"])\n",
        "      new_cols = [c for c in out.columns if c.startswith(\"locale_lang_\")]\n",
        "      out[new_cols] = out[new_cols].astype(\"int8\")\n",
        "    if \"access_action\" in out.columns:\n",
        "      out = pd.get_dummies(out, columns=[\"access_action\"])\n",
        "      new_cols = [c for c in out.columns if c.startswith(\"access_action_\")]\n",
        "      out[new_cols] = out[new_cols].astype(\"int8\")\n",
        "    if \"access_resource_name\" in out.columns:\n",
        "      out = pd.get_dummies(out, columns=[\"access_resource_name\"])\n",
        "      new_cols = [c for c in out.columns if c.startswith(\"access_resource_name_\")]\n",
        "      out[new_cols] = out[new_cols].astype(\"int8\")\n",
        "    if \"device_owner\" in out.columns:\n",
        "      out = pd.get_dummies(out, columns=[\"device_owner\"])\n",
        "      new_cols = [c for c in out.columns if c.startswith(\"device_owner_\")]\n",
        "      out[new_cols] = out[new_cols].astype(\"int8\")\n",
        "\n",
        "\n",
        "\n",
        "    # 5) 'vpn'이면 1, 그 외 0\n",
        "    out[\"vpn_signal\"] = out[\"proxy_vpn_tor\"].astype(str).str.lower().eq(\"vpn\").astype(\"int8\")\n",
        "\n",
        "    # 6) access_resource_sensitivity → low = 0, medium = 1, high = 2\n",
        "    if \"access_resource_sensitivity\" in out.columns:\n",
        "        sens_map = {\"low\": 0, \"medium\": 1,\"high\":2}\n",
        "        out[\"access_resource_sensitivity_ord\"] = (\n",
        "            out[\"access_resource_sensitivity\"].astype(str).str.lower()\n",
        "              .map(sens_map).fillna(-1).astype(\"int8\")\n",
        "        )\n",
        "        out.drop(columns=[\"access_resource_sensitivity\"], inplace=True)\n",
        "\n",
        "    # 7) boolean → 0/1\n",
        "    for b in [\"mfa_used\", \"disk_encrypt\", \"impossible_travel\"]:\n",
        "        if b in out.columns:\n",
        "            out[b] = out[b].astype(\"Int8\").fillna(0).astype(\"int8\")\n",
        "    # 8) 허용국 접속=1 / 허용국 X = 0\n",
        "    allowed = {\"KR\", \"US\"}  #허용국가\n",
        "    out[\"geo_is_allowed\"] = out[\"geo_country\"].isin(allowed).astype(\"int8\")\n",
        "    out.drop(columns=[\"geo_country\"], inplace=True)\n",
        "    # 9) 기타\n",
        "    # \"network_type\" 공공망/사내망\n",
        "    # \"department\" 부서별 점수?\n",
        "    # \"job_title\" 직급 별 신뢰도\n",
        "\n",
        "\n",
        "    return out\n"
      ],
      "metadata": {
        "id": "diYfDUNyek1I"
      },
      "execution_count": 132,
      "outputs": []
    },
    {
      "cell_type": "code",
      "source": [
        "df_train_processed = preprocess_df(df_train)\n",
        "df_train_processed = df_train_processed.drop(columns=[\"network_type\",\"proxy_vpn_tor\",\"job_title\",\"department\"])\n",
        "df_test_processed = preprocess_df(df_test)\n",
        "df_test_processed = df_test_processed.drop(columns=[\"network_type\",\"proxy_vpn_tor\",\"job_title\",\"department\"])"
      ],
      "metadata": {
        "id": "ZYxBq-fbyjuW"
      },
      "execution_count": 122,
      "outputs": []
    },
    {
      "cell_type": "code",
      "source": [
        "X_train = df_train_processed.drop(columns=[\"label\"])\n",
        "y_train = df_train_processed[\"label\"]\n",
        "\n",
        "X_test = df_test_processed.drop(columns=[\"label\"])\n",
        "y_test = df_test_processed[\"label\"]\n",
        "\n",
        "\n",
        "model = XGBClassifier(\n",
        "    n_estimators=300,\n",
        "    learning_rate=0.1,\n",
        "    max_depth=6,\n",
        "    subsample=0.8,\n",
        "    colsample_bytree=0.8,\n",
        "    random_state=42,\n",
        "    n_jobs=-1\n",
        ")\n",
        "model.fit(X_train, y_train)\n",
        "\n",
        "y_pred = model.predict(X_test)\n",
        "\n",
        "print(f\"Accuracy : {accuracy_score(y_test, y_pred):.4f}\")\n",
        "print(f\"F1 Score : {f1_score(y_test, y_pred):.4f}\")\n",
        "print(\"\\nConfusion Matrix:\")\n",
        "print(confusion_matrix(y_test, y_pred))\n",
        "print(\"\\nClassification:\")\n",
        "print(classification_report(y_test, y_pred))"
      ],
      "metadata": {
        "colab": {
          "base_uri": "https://localhost:8080/"
        },
        "id": "6LHHoBRGyfZj",
        "outputId": "0cc91de8-4d09-4968-95cf-c25f64877fc1"
      },
      "execution_count": 130,
      "outputs": [
        {
          "output_type": "stream",
          "name": "stdout",
          "text": [
            "Accuracy : 1.0000\n",
            "F1 Score : 1.0000\n",
            "\n",
            "Confusion Matrix:\n",
            "[[16000     0]\n",
            " [    0  4000]]\n",
            "\n",
            "Classification:\n",
            "              precision    recall  f1-score   support\n",
            "\n",
            "           0       1.00      1.00      1.00     16000\n",
            "           1       1.00      1.00      1.00      4000\n",
            "\n",
            "    accuracy                           1.00     20000\n",
            "   macro avg       1.00      1.00      1.00     20000\n",
            "weighted avg       1.00      1.00      1.00     20000\n",
            "\n"
          ]
        }
      ]
    }
  ]
}